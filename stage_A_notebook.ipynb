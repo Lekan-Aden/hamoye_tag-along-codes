{
 "cells": [
  {
   "cell_type": "code",
   "execution_count": 1,
   "id": "0eda597a",
   "metadata": {},
   "outputs": [],
   "source": [
    "import pandas as pd"
   ]
  },
  {
   "cell_type": "code",
   "execution_count": 4,
   "id": "68f94555",
   "metadata": {},
   "outputs": [],
   "source": [
    "url = 'https://github.com/HamoyeHQ/HDSC-Introduction-to-Python-for-machine-learning/files/7768140/FoodBalanceSheets_E_Africa_NOFLAG.csv'\n",
    "df = pd.read_csv(url, encoding='latin-1')"
   ]
  },
  {
   "cell_type": "markdown",
   "id": "65185e66",
   "metadata": {},
   "source": [
    "### Question 1\n",
    "Select columns ‘Y2017’ and ‘Area’, Perform a groupby operation on ‘Area’.  Which of these Areas had the highest sum in 2017?"
   ]
  },
  {
   "cell_type": "code",
   "execution_count": 9,
   "id": "49903381",
   "metadata": {},
   "outputs": [
    {
     "data": {
      "text/html": [
       "<div>\n",
       "<style scoped>\n",
       "    .dataframe tbody tr th:only-of-type {\n",
       "        vertical-align: middle;\n",
       "    }\n",
       "\n",
       "    .dataframe tbody tr th {\n",
       "        vertical-align: top;\n",
       "    }\n",
       "\n",
       "    .dataframe thead th {\n",
       "        text-align: right;\n",
       "    }\n",
       "</style>\n",
       "<table border=\"1\" class=\"dataframe\">\n",
       "  <thead>\n",
       "    <tr style=\"text-align: right;\">\n",
       "      <th></th>\n",
       "      <th>Y2017</th>\n",
       "    </tr>\n",
       "    <tr>\n",
       "      <th>Area</th>\n",
       "      <th></th>\n",
       "    </tr>\n",
       "  </thead>\n",
       "  <tbody>\n",
       "    <tr>\n",
       "      <th>Nigeria</th>\n",
       "      <td>1483268.23</td>\n",
       "    </tr>\n",
       "  </tbody>\n",
       "</table>\n",
       "</div>"
      ],
      "text/plain": [
       "              Y2017\n",
       "Area               \n",
       "Nigeria  1483268.23"
      ]
     },
     "execution_count": 9,
     "metadata": {},
     "output_type": "execute_result"
    }
   ],
   "source": [
    "df[['Y2017', 'Area']].groupby(by='Area').sum().sort_values(by='Y2017', ascending=False).head(1)"
   ]
  },
  {
   "cell_type": "markdown",
   "id": "d529a8bb",
   "metadata": {},
   "source": [
    "### Question 3\n",
    "What is the total number of unique countries in the dataset?"
   ]
  },
  {
   "cell_type": "code",
   "execution_count": 11,
   "id": "dd8455c1",
   "metadata": {},
   "outputs": [
    {
     "data": {
      "text/plain": [
       "49"
      ]
     },
     "execution_count": 11,
     "metadata": {},
     "output_type": "execute_result"
    }
   ],
   "source": [
    "df['Area'].nunique()"
   ]
  },
  {
   "cell_type": "markdown",
   "id": "0251072c",
   "metadata": {},
   "source": [
    "### Question 4\n",
    "What is the mean and standard deviation across the whole dataset for the year 2017 to 2 decimal places?"
   ]
  },
  {
   "cell_type": "code",
   "execution_count": 13,
   "id": "cc02e1fb",
   "metadata": {},
   "outputs": [
    {
     "data": {
      "text/plain": [
       "mean     140.92\n",
       "std     1671.86\n",
       "Name: Y2017, dtype: float64"
      ]
     },
     "execution_count": 13,
     "metadata": {},
     "output_type": "execute_result"
    }
   ],
   "source": [
    "df['Y2017'].agg(['mean', 'std']).round(2)"
   ]
  },
  {
   "cell_type": "markdown",
   "id": "d49ea703",
   "metadata": {},
   "source": [
    "### Question 5\n",
    "Select columns ‘Y2017’ and ‘Area’, Perform a groupby operation on ‘Area’.  Which of these Areas had the 7th lowest sum in 2017?"
   ]
  },
  {
   "cell_type": "code",
   "execution_count": 15,
   "id": "22e0b8bb",
   "metadata": {},
   "outputs": [
    {
     "data": {
      "text/plain": [
       "Y2017    19102.77\n",
       "Name: Guinea-Bissau, dtype: float64"
      ]
     },
     "execution_count": 15,
     "metadata": {},
     "output_type": "execute_result"
    }
   ],
   "source": [
    "df[['Y2017', 'Area']].groupby(by='Area').sum().sort_values(by='Y2017', ascending=True).iloc[6]"
   ]
  },
  {
   "cell_type": "markdown",
   "id": "782e16e0",
   "metadata": {},
   "source": [
    "### Question 6\n",
    "Perform a groupby operation on ‘Element’.  What year has the highest sum of Stock Variation?"
   ]
  },
  {
   "cell_type": "code",
   "execution_count": 24,
   "id": "2af44827",
   "metadata": {},
   "outputs": [
    {
     "data": {
      "text/plain": [
       "'Y2014'"
      ]
     },
     "execution_count": 24,
     "metadata": {},
     "output_type": "execute_result"
    }
   ],
   "source": [
    "years = ['Y2014', 'Y2015', 'Y2016', 'Y2017', 'Y2018']\n",
    "df.groupby(by='Element')[years].sum().loc['Stock Variation'].idxmax()"
   ]
  },
  {
   "cell_type": "markdown",
   "id": "bcbdf463",
   "metadata": {},
   "source": [
    "### Question 8\n",
    "What is the total Protein supply quantity in Madagascar in 2015?"
   ]
  },
  {
   "cell_type": "code",
   "execution_count": 43,
   "id": "e3d39511",
   "metadata": {},
   "outputs": [
    {
     "data": {
      "text/plain": [
       "173.04999999999998"
      ]
     },
     "execution_count": 43,
     "metadata": {},
     "output_type": "execute_result"
    }
   ],
   "source": [
    "df[(df['Area'] == 'Madagascar') & (df['Element'] == 'Protein supply quantity (g/capita/day)')]\\\n",
    "['Y2015']\\\n",
    ".sum()"
   ]
  },
  {
   "cell_type": "markdown",
   "id": "b79e5eb0",
   "metadata": {},
   "source": [
    "### Question 13\n",
    "Which year had the least correlation with ‘Element Code’?"
   ]
  },
  {
   "cell_type": "code",
   "execution_count": 51,
   "id": "093d1512",
   "metadata": {},
   "outputs": [
    {
     "data": {
      "text/plain": [
       "Y2016           0.023444\n",
       "Y2015           0.023889\n",
       "Y2017           0.024254\n",
       "Y2018           0.024279\n",
       "Y2014           0.024457\n",
       "Element Code    1.000000\n",
       "Name: Element Code, dtype: float64"
      ]
     },
     "execution_count": 51,
     "metadata": {},
     "output_type": "execute_result"
    }
   ],
   "source": [
    "years = ['Y2014', 'Y2015', 'Y2016', 'Y2017', 'Y2018']\n",
    "df[years + ['Element Code']].corr()['Element Code'].sort_values()"
   ]
  },
  {
   "cell_type": "markdown",
   "id": "48401095",
   "metadata": {},
   "source": [
    "### Question 16\n",
    "Perform a groupby operation on ‘Element’.  What is the total number of the sum of Processing in 2017?"
   ]
  },
  {
   "cell_type": "code",
   "execution_count": 54,
   "id": "2e3ec905",
   "metadata": {},
   "outputs": [
    {
     "data": {
      "text/plain": [
       "292836.0"
      ]
     },
     "execution_count": 54,
     "metadata": {},
     "output_type": "execute_result"
    }
   ],
   "source": [
    "df.groupby(by='Element')['Y2017'].sum().loc['Processing']"
   ]
  },
  {
   "cell_type": "markdown",
   "id": "ef665bb1",
   "metadata": {},
   "source": [
    "### Question 19\n",
    "What is the total number and percentage of missing data in 2014 to 3 decimal places?"
   ]
  },
  {
   "cell_type": "code",
   "execution_count": 62,
   "id": "d863b4b8",
   "metadata": {},
   "outputs": [
    {
     "data": {
      "text/plain": [
       "(1589, 2.6073544131401474)"
      ]
     },
     "execution_count": 62,
     "metadata": {},
     "output_type": "execute_result"
    }
   ],
   "source": [
    "total_missing = df['Y2014'].isnull().sum()\n",
    "percent_missing = total_missing * 100 / len(df)\n",
    "total_missing, percent_missing"
   ]
  },
  {
   "cell_type": "markdown",
   "id": "51e0a64f",
   "metadata": {},
   "source": [
    "### Question 20\n",
    "Answer the following questions based on the African food production dataset provided by the FAO website already provided. What is the total sum of Wine produced in 2015 and 2018 respectively?"
   ]
  },
  {
   "cell_type": "code",
   "execution_count": 66,
   "id": "5b9d68bc",
   "metadata": {},
   "outputs": [
    {
     "data": {
      "text/plain": [
       "Y2015    4251.81\n",
       "Y2018    4039.32\n",
       "Name: Wine, dtype: float64"
      ]
     },
     "execution_count": 66,
     "metadata": {},
     "output_type": "execute_result"
    }
   ],
   "source": [
    "df.groupby(by='Item')[['Y2015', 'Y2018']].sum().loc['Wine']"
   ]
  },
  {
   "cell_type": "code",
   "execution_count": null,
   "id": "c8e7abb3",
   "metadata": {},
   "outputs": [],
   "source": []
  }
 ],
 "metadata": {
  "kernelspec": {
   "display_name": "Python 3 (ipykernel)",
   "language": "python",
   "name": "python3"
  },
  "language_info": {
   "codemirror_mode": {
    "name": "ipython",
    "version": 3
   },
   "file_extension": ".py",
   "mimetype": "text/x-python",
   "name": "python",
   "nbconvert_exporter": "python",
   "pygments_lexer": "ipython3",
   "version": "3.11.3"
  }
 },
 "nbformat": 4,
 "nbformat_minor": 5
}
